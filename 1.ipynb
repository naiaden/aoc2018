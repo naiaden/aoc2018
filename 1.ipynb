{
 "cells": [
  {
   "cell_type": "code",
   "execution_count": 13,
   "metadata": {},
   "outputs": [
    {
     "name": "stdout",
     "output_type": "stream",
     "text": [
      "442\n"
     ]
    }
   ],
   "source": [
    "input_ = map(int, open('input1.txt', 'r').read().split('\\n'))\n",
    "# input_ = [+1, +1, -2]\n",
    "\n",
    "frequency = 0\n",
    "\n",
    "for change in input_:\n",
    "    frequency += change\n",
    "    \n",
    "print(frequency)"
   ]
  },
  {
   "cell_type": "code",
   "execution_count": 7,
   "metadata": {},
   "outputs": [],
   "source": [
    "g  = +4"
   ]
  },
  {
   "cell_type": "code",
   "execution_count": 21,
   "metadata": {},
   "outputs": [
    {
     "name": "stdout",
     "output_type": "stream",
     "text": [
      "done 59908\n",
      "59908\n"
     ]
    }
   ],
   "source": [
    "frequency = 0\n",
    "frequencies = set([])\n",
    "\n",
    "seen_frequency = None\n",
    "\n",
    "import copy\n",
    "\n",
    "input_ = map(int, open('input1.txt', 'r').read().split('\\n'))\n",
    "# input_ = [+3, +3, +4, -2, -4]\n",
    "\n",
    "while not seen_frequency:\n",
    "    for change in copy.deepcopy(input_):\n",
    "        frequency += change\n",
    "        if frequency in frequencies:\n",
    "            seen_frequency = frequency\n",
    "            break\n",
    "\n",
    "        frequencies.add(frequency)\n",
    "\n",
    "print(frequency)"
   ]
  }
 ],
 "metadata": {
  "kernelspec": {
   "display_name": "Python 3",
   "language": "python",
   "name": "python3"
  },
  "language_info": {
   "codemirror_mode": {
    "name": "ipython",
    "version": 3
   },
   "file_extension": ".py",
   "mimetype": "text/x-python",
   "name": "python",
   "nbconvert_exporter": "python",
   "pygments_lexer": "ipython3",
   "version": "3.7.1"
  },
  "varInspector": {
   "cols": {
    "lenName": 16,
    "lenType": 16,
    "lenVar": 40
   },
   "kernels_config": {
    "python": {
     "delete_cmd_postfix": "",
     "delete_cmd_prefix": "del ",
     "library": "var_list.py",
     "varRefreshCmd": "print(var_dic_list())"
    },
    "r": {
     "delete_cmd_postfix": ") ",
     "delete_cmd_prefix": "rm(",
     "library": "var_list.r",
     "varRefreshCmd": "cat(var_dic_list()) "
    }
   },
   "types_to_exclude": [
    "module",
    "function",
    "builtin_function_or_method",
    "instance",
    "_Feature"
   ],
   "window_display": false
  }
 },
 "nbformat": 4,
 "nbformat_minor": 2
}
