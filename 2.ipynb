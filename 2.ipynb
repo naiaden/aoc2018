{
 "cells": [
  {
   "cell_type": "code",
   "execution_count": 7,
   "metadata": {},
   "outputs": [
    {
     "name": "stdout",
     "output_type": "stream",
     "text": [
      "8296\n"
     ]
    }
   ],
   "source": [
    "input_ = open('input2.txt', 'r').read().split('\\n')\n",
    "\n",
    "from collections import Counter\n",
    "\n",
    "double_occ = 0\n",
    "triple_occ = 0\n",
    "\n",
    "for id_ in input_:\n",
    "    counter = Counter(id_)\n",
    "    double_counted = False\n",
    "    triple_counted = False\n",
    "    for char, count in counter.items():\n",
    "        if count == 2 and not double_counted:\n",
    "            double_occ += 1\n",
    "            double_counted = True\n",
    "        elif count == 3 and not triple_counted:\n",
    "            triple_occ += 1\n",
    "            triple_counted = True\n",
    "\n",
    "print(double_occ * triple_occ)"
   ]
  },
  {
   "cell_type": "code",
   "execution_count": 15,
   "metadata": {},
   "outputs": [
    {
     "name": "stdout",
     "output_type": "stream",
     "text": [
      "pazvmqbfjtrbeosiecxlghkwud pazvmqbfotrbeosiecxlghkwud pazvmqbftrbeosiecxlghkwud\n",
      "pazvmqbfotrbeosiecxlghkwud pazvmqbfjtrbeosiecxlghkwud pazvmqbftrbeosiecxlghkwud\n"
     ]
    }
   ],
   "source": [
    "import editdistance\n",
    "for id_1 in input_:\n",
    "    for id_2 in input_:\n",
    "        if editdistance.eval(id_1, id_2) == 1:\n",
    "            print(id_1, id_2, \"\".join([id_1[i] for i in range(len(id_1)) if id_1[i] == id_2[i]]))\n",
    "            break\n"
   ]
  }
 ],
 "metadata": {
  "kernelspec": {
   "display_name": "Python 3",
   "language": "python",
   "name": "python3"
  },
  "language_info": {
   "codemirror_mode": {
    "name": "ipython",
    "version": 3
   },
   "file_extension": ".py",
   "mimetype": "text/x-python",
   "name": "python",
   "nbconvert_exporter": "python",
   "pygments_lexer": "ipython3",
   "version": "3.7.1"
  },
  "varInspector": {
   "cols": {
    "lenName": 16,
    "lenType": 16,
    "lenVar": 40
   },
   "kernels_config": {
    "python": {
     "delete_cmd_postfix": "",
     "delete_cmd_prefix": "del ",
     "library": "var_list.py",
     "varRefreshCmd": "print(var_dic_list())"
    },
    "r": {
     "delete_cmd_postfix": ") ",
     "delete_cmd_prefix": "rm(",
     "library": "var_list.r",
     "varRefreshCmd": "cat(var_dic_list()) "
    }
   },
   "types_to_exclude": [
    "module",
    "function",
    "builtin_function_or_method",
    "instance",
    "_Feature"
   ],
   "window_display": false
  }
 },
 "nbformat": 4,
 "nbformat_minor": 2
}
