{
 "cells": [
  {
   "cell_type": "code",
   "execution_count": 39,
   "metadata": {},
   "outputs": [
    {
     "data": {
      "text/plain": [
       "111326"
      ]
     },
     "execution_count": 39,
     "metadata": {},
     "output_type": "execute_result"
    }
   ],
   "source": [
    "input_ = open('input3.txt', 'r').read().split('\\n')\n",
    "# input_ = \"\"\"#1 @ 1,3: 4x4\n",
    "# #2 @ 3,1: 4x4\n",
    "# #3 @ 5,5: 2x2\"\"\".split('\\n')\n",
    "# #123 @ 3,2: 5x4\n",
    "\n",
    "from collections import Counter\n",
    "\n",
    "claims = []\n",
    "\n",
    "for claim in input_:\n",
    "    id_, _, offset, size = claim.split(' ')\n",
    "    offset_h, offset_w = map(int, offset.replace(\":\", \"\").split(','))\n",
    "    size_h, size_w = map(int, size.split('x'))\n",
    "    \n",
    "    for h in range(offset_h+1, offset_h+1+size_h):\n",
    "        for w in range(offset_w+1, offset_w+1+size_w):\n",
    "            claims.append((w,h))\n",
    "            \n",
    "c= Counter(claims)\n",
    "len([k for k,v in c.items() if v > 1])"
   ]
  },
  {
   "cell_type": "code",
   "execution_count": 50,
   "metadata": {},
   "outputs": [
    {
     "name": "stdout",
     "output_type": "stream",
     "text": [
      "236121\n",
      "#8\n",
      "#19\n",
      "#26\n",
      "#37\n",
      "#51\n",
      "#57\n",
      "#82\n",
      "#93\n",
      "#185\n",
      "#202\n",
      "#212\n",
      "#227\n",
      "#248\n",
      "#254\n",
      "#263\n",
      "#280\n",
      "#311\n",
      "#317\n",
      "#327\n",
      "#334\n",
      "#337\n",
      "#344\n",
      "#370\n",
      "#375\n",
      "#388\n",
      "#402\n",
      "#403\n",
      "#414\n",
      "#421\n",
      "#425\n",
      "#435\n",
      "#438\n",
      "#443\n",
      "#477\n",
      "#489\n",
      "#516\n",
      "#530\n",
      "#549\n",
      "#556\n",
      "#561\n",
      "#572\n",
      "#628\n",
      "#665\n",
      "#679\n",
      "#682\n",
      "#683\n",
      "#684\n",
      "#710\n",
      "#734\n",
      "#742\n",
      "#756\n",
      "#760\n",
      "#763\n",
      "#773\n",
      "#782\n",
      "#795\n",
      "#802\n",
      "#809\n",
      "#826\n",
      "#831\n",
      "#861\n",
      "#903\n",
      "#905\n",
      "#929\n",
      "#961\n",
      "#963\n",
      "#966\n",
      "#973\n",
      "#974\n",
      "#976\n",
      "#987\n",
      "#995\n",
      "#1003\n",
      "#1011\n",
      "#1016\n",
      "#1030\n",
      "#1036\n",
      "#1039\n",
      "#1041\n",
      "#1043\n",
      "#1049\n",
      "#1056\n",
      "#1063\n",
      "#1079\n",
      "#1099\n",
      "#1111\n",
      "#1138\n",
      "#1146\n",
      "#1150\n",
      "#1154\n",
      "#1164\n",
      "#1165\n",
      "#1171\n",
      "#1190\n",
      "#1194\n",
      "#1203\n",
      "#1206\n",
      "#1212\n",
      "#1227\n",
      "#1240\n",
      "#1252\n",
      "#1279\n",
      "#1281\n",
      "#1294\n",
      "#1296\n",
      "#1303\n"
     ]
    }
   ],
   "source": [
    "claim_set = set([k for k,v in c.items() if v == 1])\n",
    "double_set = set([k for k,v in c.items() if v > 1])\n",
    "print(len(claim_set))\n",
    "\n",
    "for claim in input_:\n",
    "    id_, _, offset, size = claim.split(' ')\n",
    "#     print(id_)\n",
    "    offset_h, offset_w = map(int, offset.replace(\":\", \"\").split(','))\n",
    "    size_h, size_w = map(int, size.split('x'))\n",
    "    \n",
    "    overlap = False\n",
    "    \n",
    "    for h in range(offset_h+1, offset_h+1+size_h):\n",
    "        for w in range(offset_w+1, offset_w+1+size_w):\n",
    "            if (w,h) in claim_set:\n",
    "                overlap = True\n",
    "            elif (w,h) in double_set:\n",
    "                overlap = True\n",
    "    \n",
    "    if not overlap:\n",
    "        print(id_)"
   ]
  }
 ],
 "metadata": {
  "kernelspec": {
   "display_name": "Python 3",
   "language": "python",
   "name": "python3"
  },
  "language_info": {
   "codemirror_mode": {
    "name": "ipython",
    "version": 3
   },
   "file_extension": ".py",
   "mimetype": "text/x-python",
   "name": "python",
   "nbconvert_exporter": "python",
   "pygments_lexer": "ipython3",
   "version": "3.7.1"
  },
  "varInspector": {
   "cols": {
    "lenName": 16,
    "lenType": 16,
    "lenVar": 40
   },
   "kernels_config": {
    "python": {
     "delete_cmd_postfix": "",
     "delete_cmd_prefix": "del ",
     "library": "var_list.py",
     "varRefreshCmd": "print(var_dic_list())"
    },
    "r": {
     "delete_cmd_postfix": ") ",
     "delete_cmd_prefix": "rm(",
     "library": "var_list.r",
     "varRefreshCmd": "cat(var_dic_list()) "
    }
   },
   "types_to_exclude": [
    "module",
    "function",
    "builtin_function_or_method",
    "instance",
    "_Feature"
   ],
   "window_display": false
  }
 },
 "nbformat": 4,
 "nbformat_minor": 2
}
